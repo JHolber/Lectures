{
 "cells": [
  {
   "cell_type": "markdown",
   "metadata": {},
   "source": [
    "# Lecture 5, Damped Driven Pendulum and Chaos\n",
    "\n",
    "**Overview:**\n",
    "* Non-Linear Pendulum\n",
    "* Damped & Driven non-linear pendulum\n",
    "* Chaotic vs. Stochastic trajectories\n",
    "* Sensitivity to initial conditions\n",
    "* Phase space plots\n",
    "\n",
    "---"
   ]
  },
  {
   "cell_type": "code",
   "execution_count": 2,
   "metadata": {},
   "outputs": [],
   "source": [
    "# Keep import statement in their own cell at the top\n",
    "import matplotlib.pyplot as plt # for plotting          \n",
    "import numpy as np\n",
    "\n",
    "# import our Pendulum class from Particle1D\n",
    "from Particle1D import Pendulum\n",
    "%matplotlib notebook   "
   ]
  },
  {
   "cell_type": "markdown",
   "metadata": {},
   "source": [
    "Below we will explore the behavior of a driven non-linear pendulum using our ODE class. The Pendulum class is a sub-class of Particle. There are some modifications to fix the range of the pendulum displacement $\\theta: [-\\pi, \\pi]$. \n",
    "\n",
    "When creating a new instance of Pendulum, we can provide many arguments that describe a driven damped oscillator:\n",
    "\n",
    "        P = Pendulum(l = 9.8, nu = 0, Fd  = 0.0, omega_d = 0.0, m = 1.0, x0 = 0.0 ,v0 = 0.0, tf = 50.0, dt = 0.001)\n",
    "        \n",
    "        l: length of pendulum\n",
    "        nu: damping (viscous drag) term\n",
    "        Fd: amplitude of driving force\n",
    "        omega_d: frequency of driving force\n",
    "        m: mass of pendulum\n",
    "        x0: initial displacement\n",
    "        v0: initial velocity\n",
    "        tf: final time for our calculation\n",
    "        dt: time step size"
   ]
  },
  {
   "cell_type": "markdown",
   "metadata": {},
   "source": [
    "## The non-Linear pendulum\n",
    "\n",
    "* Make sure you understand how the code below is working.\n",
    "* Try modifying the code to add a damping term. Explore trajectories for different values of the damping coefficient.\n",
    "* What do you notice about the shape of the trajectory as the driving force is increased?"
   ]
  },
  {
   "cell_type": "code",
   "execution_count": null,
   "metadata": {
    "scrolled": true
   },
   "outputs": [],
   "source": [
    "fig = plt.figure(figsize = [7,5])\n",
    "ax = fig.add_subplot(111)\n",
    "    \n",
    "# Loop over different initial displacements and plot angle vs time for driven pendulum\n",
    "    \n",
    "# maximum initial displacement is 1, corresponds to pi radians.\n",
    "x0s= [0.01, 0.2, 0.4, 0.8, 0.9] \n",
    "\n",
    "for x0 in x0s:\n",
    "    p = Pendulum(nu = 0, x0 = np.pi*x0, tf= 20, dt = 1e-3)\n",
    "    p.scipy_trajectory() #Use scipy ODEint \n",
    "    ax.plot(p.tarray, p.xv[:,0]/x0/np.pi, lw = 2, label = \"$\\\\theta_0$ = {}\".format(x0))\n",
    "\n",
    "ax.set_xlabel('t (s)',fontsize = 18)\n",
    "ax.set_ylabel('$\\\\theta / \\\\theta_0$', fontsize = 18)\n",
    "ax.legend(loc = 4)\n",
    "ax.set_title('Non-Linear Pendulum')\n",
    "plt.show()\n"
   ]
  },
  {
   "cell_type": "markdown",
   "metadata": {},
   "source": [
    "## Damped & Driven non-linear pendulum\n",
    "\n",
    "Below we explore the behavior of the damped driven pendulum for different driving force amplitudes. \n",
    "* Try changing the frequency of the driving force or the damping coefficient. What do you notice? "
   ]
  },
  {
   "cell_type": "code",
   "execution_count": null,
   "metadata": {},
   "outputs": [],
   "source": [
    "# demonstate regime of chaotic behavior\n",
    "fig = plt.figure(figsize = [10,8])\n",
    "axs = fig.subplots(3,1)\n",
    "    \n",
    "\n",
    "# Loop over driving force amplitudes\n",
    "Fds = [0.5,1.1,1.2] \n",
    "\n",
    "for ii in range(len(Fds)):\n",
    "    p = Pendulum(nu = 1/2, Fd = Fds[ii], omega_d = 0.6 , x0 = 0.200, tf = 200)\n",
    "    p.scipy_trajectory()\n",
    "\n",
    "    axs[ii].plot(p.tarray, p.xv[:,0],lw = 2, label = \"$F_d$ = {}\".format(Fds[ii]))\n",
    "    axs[ii].set_ylabel('$\\\\theta$ (rad)', fontsize = 14)\n",
    "    axs[ii].legend(loc = 1, fontsize = 14)\n",
    "        \n",
    "\n",
    "axs[-1].set_xlabel('t (s)', fontsize = 14) \n",
    "fig.subplots_adjust(top = 0.98, bottom =0.08, left = 0.14, right =0.98)\n",
    "\n"
   ]
  },
  {
   "cell_type": "markdown",
   "metadata": {},
   "source": [
    "## Non deterministic (stochastic) vs. chaotic behavior\n",
    "\n",
    "Below we explore the difference between chaotic and non-deterministic behavior by comparing our damped driven pendulum in the chaotic regime with randomly generated displacements. The random displacements might be a simulation of an extremely light pendulum sitting at equilibrium in a thermal bath.\n",
    "\n",
    "* Try running the code below many times and each time examine the output. What do you notice about the stochastic trajectory vs. the chaotic trajectory?"
   ]
  },
  {
   "cell_type": "code",
   "execution_count": null,
   "metadata": {},
   "outputs": [],
   "source": [
    "def white_noise(tf, dt):\n",
    "    # function to simulate a stochastic or random process\n",
    "    mean = 0\n",
    "    std = np.pi/3.\n",
    "    npoints = int(tf/dt)\n",
    "    tarray = np.linspace(0.0, tf,npoints, endpoint = True) # include final timepoint\n",
    "    \n",
    "    # extract points at random from a normal distribution\n",
    "    w = np.random.normal(mean, std, size = npoints)\n",
    "\n",
    "    return tarray, w\n",
    "\n",
    "\n",
    "fig = plt.figure(figsize = [12,6])\n",
    "axs = fig.subplots(1,2)\n",
    "\n",
    "# Create two different pendulum objects with the same parameters\n",
    "p1 = Pendulum(nu = 1/2, Fd = 1.1, omega_d = 0.6 , x0 = 0.200, tf = 200, dt = 0.01)\n",
    "p2 = Pendulum(nu = 1/2, Fd = 1.1, omega_d = 0.6 , x0 = 0.200, tf = 200, dt = 0.01)\n",
    "p1.scipy_trajectory()\n",
    "p2.scipy_trajectory()\n",
    "\n",
    "# Create two different random \"pendulums\" with the same parameters\n",
    "w1 = white_noise(tf = 200, dt =2)\n",
    "w2 = white_noise(tf = 200, dt =2)\n",
    "\n",
    "# Plot the trajectories and differences on the same graph\n",
    "axs[0].plot(p1.tarray, p1.xv[:,0]+10,lw = 2)\n",
    "axs[0].plot(p2.tarray, p2.xv[:,0]+3,lw = 2)\n",
    "axs[0].plot(p2.tarray, p1.xv[:,0] - p2.xv[:,0],lw = 2, label = 'difference')\n",
    "    \n",
    "axs[0].set_ylim([-2,14])\n",
    "axs[0].legend(loc = 1)\n",
    "axs[0].set_xlabel('t (s)')\n",
    "axs[0].set_ylabel('$\\\\theta$ (rad)')   \n",
    "\n",
    "axs[1].plot(w2[0], w2[1]+10,lw = 2)\n",
    "axs[1].plot(w1[0], w1[1]+5,lw = 2)\n",
    "axs[1].plot(w1[0], w1[1] - w2[1],lw = 2, label = 'difference')\n",
    "\n",
    "axs[1].set_ylabel('$\\\\theta$ (rad)')\n",
    "axs[1].set_ylim([-2,14])\n",
    "axs[1].legend(loc = 1)\n",
    "axs[1].set_xlabel('t (s)')\n",
    "\n",
    "axs[0].set_title('Chaotic')\n",
    "axs[1].set_title('Stochastic')\n",
    "\n",
    "fig.subplots_adjust(top = 0.9, bottom =0.14, left = 0.08, right =0.98)\n"
   ]
  },
  {
   "cell_type": "markdown",
   "metadata": {},
   "source": [
    "## Dependence on Initial conditions\n",
    "\n",
    "* Find a driving force amplitude where the trajectories for infinitesimally different initial $\\theta$ are exponentially diverging.\n",
    "\n",
    "* Make the difference in initial conditions as small as you please. Can you make it small enough so that the two trajectories are the same?"
   ]
  },
  {
   "cell_type": "code",
   "execution_count": 3,
   "metadata": {},
   "outputs": [
    {
     "data": {
      "image/png": "[encoded data removed]",
      "text/plain": [
       "<Figure size 576x432 with 1 Axes>"
      ]
     },
     "metadata": {
      "needs_background": "light"
     },
     "output_type": "display_data"
    }
   ],
   "source": [
    "# Driving force amplitude\n",
    "Fd = 0.2\n",
    "\n",
    "# Initial theta\n",
    "theta0 = 0.2\n",
    "\n",
    "# Difference in initial position\n",
    "delta_theta0 = 0.01\n",
    "\n",
    "\n",
    "tf = 200\n",
    "dt = 0.01\n",
    "\n",
    "# Initialize objects and calculate trajectories\n",
    "p1 = Pendulum(nu = 1/2, Fd = Fd, omega_d = 0.6 , x0 = theta0, tf = tf, dt = dt)\n",
    "p2 = Pendulum(nu = 1/2, Fd = Fd, omega_d = 0.6 , x0 = theta0+delta_theta0, tf = tf, dt = dt)\n",
    "p1.scipy_trajectory()\n",
    "p2.scipy_trajectory()\n",
    "\n",
    "# difference between two directorys\n",
    "delta_theta = np.abs(p1.xv_unwrap[:,0] - p2.xv_unwrap[:,0])\n",
    "\n",
    "# Make Plot    \n",
    "fig = plt.figure(figsize = [8,6])\n",
    "ax = fig.subplots(1,1)\n",
    "\n",
    "# plot on a log scale\n",
    "ax.semilogy(p1.tarray, delta_theta, label = \"$F_d =$ {}\".format(Fd))\n",
    "\n",
    "ax.set_ylabel('$\\delta \\\\theta$ (rad)', fontsize = 14)\n",
    "ax.set_xlabel('t (s)', fontsize = 14)\n",
    "ax.legend(loc = 4, fontsize = 14)\n",
    "    \n",
    "fig.subplots_adjust(top = 0.96, bottom =0.08, left = 0.24, right =0.98)\n",
    "plt.show()\n"
   ]
  },
  {
   "cell_type": "markdown",
   "metadata": {},
   "source": [
    "## Phase space plots\n",
    "\n",
    "* Explore the phase space plots for different values of driving force amplitude. Can you tell when there is a chaotic solution?\n",
    "* Can you generate a Poincare section? (sample only those points in phase space that occur at integer multiples of driving force frequency)"
   ]
  },
  {
   "cell_type": "code",
   "execution_count": null,
   "metadata": {},
   "outputs": [],
   "source": [
    "Fd = 0.2\n",
    "theta0 = 0.2\n",
    "tf = 1000\n",
    "dt = 0.01\n",
    "\n",
    "# Initialize objects and calculate trajectories\n",
    "p1 = Pendulum(nu = 1/2, Fd = Fd, omega_d = 0.6 , x0 = theta0, tf = tf, dt = dt)\n",
    "p1.scipy_trajectory()\n",
    "p1.plot(pt = 'phase')"
   ]
  },
  {
   "cell_type": "code",
   "execution_count": null,
   "metadata": {},
   "outputs": [],
   "source": []
  }
 ],
 "metadata": {
  "kernelspec": {
   "display_name": "Python 3",
   "language": "python",
   "name": "python3"
  },
  "language_info": {
   "codemirror_mode": {
    "name": "ipython",
    "version": 3
   },
   "file_extension": ".py",
   "mimetype": "text/x-python",
   "name": "python",
   "nbconvert_exporter": "python",
   "pygments_lexer": "ipython3",
   "version": "3.6.7"
  }
 },
 "nbformat": 4,
 "nbformat_minor": 2
}
